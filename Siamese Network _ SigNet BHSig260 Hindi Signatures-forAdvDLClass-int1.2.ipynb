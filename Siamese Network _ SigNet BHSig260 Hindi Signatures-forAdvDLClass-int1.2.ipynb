{
 "cells": [
  {
   "cell_type": "markdown",
   "metadata": {
    "id": "GTEqqZMIiom-"
   },
   "source": [
    "### Problem Statement\n",
    "Signature is one of the most popular and commonly accepted biometric hallmarks that has been used since the ancient times for verifying different entities related to human beings, viz. documents, forms, bank checks, individuals, etc. Therefore, signature verification is a critical task and many efforts have been made to remove the uncertainty involved in the manual authentication procedure, which makes signature verification an important research line in the field of machine learning and pattern recognition. \n",
    "\n",
    "\n",
    "In this notebook, we model a writer independent **signature verification** task with a **convolutional Siamese network**.\n",
    "\n"
   ]
  },
  {
   "cell_type": "code",
   "execution_count": 38,
   "metadata": {
    "executionInfo": {
     "elapsed": 3536,
     "status": "ok",
     "timestamp": 1619000527771,
     "user": {
      "displayName": "Sayan Dey",
      "photoUrl": "https://lh3.googleusercontent.com/a-/AOh14GgqVHJ9o6-7idGiRbNNd4iVc1VjzvuPnwmAnvEtD6U=s64",
      "userId": "03603580465490055794"
     },
     "user_tz": -330
    },
    "id": "z5aDCGKFnWEd"
   },
   "outputs": [],
   "source": [
    "import numpy as np\n",
    "import os\n",
    "import matplotlib.pyplot as plt\n",
    "%matplotlib inline\n",
    "\n",
    "import cv2\n",
    "import itertools\n",
    "import random\n",
    "\n",
    "from sklearn.utils import shuffle\n",
    "\n",
    "import tensorflow as tf"
   ]
  },
  {
   "cell_type": "markdown",
   "metadata": {
    "id": "rQ6uGxWagd1G"
   },
   "source": [
    "### Dataset Links:\n",
    "\n",
    "https://drive.google.com/open?id=0B29vNACcjvzVc1RfVkg5dUh2b1E"
   ]
  },
  {
   "cell_type": "markdown",
   "metadata": {
    "id": "V6kP3WD_hlYA"
   },
   "source": [
    "### About the Dataset:\n",
    "\n",
    "\n",
    "The BHSig260 signature dataset contains the signatures of 260 persons, among them 100 were signed in Bengali and 160 are signed in Hindi. \n",
    "\n",
    "For each of the signers, 24 genuine and 30 forged signatures are available. This results in 100 × 24 = 2, 400 genuine and 100 × 30 = 3, 000 forged signatures in Bengali, and 160 × 24 = 3, 840 genuine and 160×30 = 4, 800 forged signatures in Hindi.\n",
    "\n",
    "In this task we are considering only Hindi singatures for easeness. \n",
    "\n",
    "\n",
    "**Paper Link:**  https://arxiv.org/pdf/1707.02131.pdf"
   ]
  },
  {
   "cell_type": "code",
   "execution_count": 2,
   "metadata": {
    "colab": {
     "base_uri": "https://localhost:8080/"
    },
    "executionInfo": {
     "elapsed": 9545,
     "status": "ok",
     "timestamp": 1619000533788,
     "user": {
      "displayName": "Sayan Dey",
      "photoUrl": "https://lh3.googleusercontent.com/a-/AOh14GgqVHJ9o6-7idGiRbNNd4iVc1VjzvuPnwmAnvEtD6U=s64",
      "userId": "03603580465490055794"
     },
     "user_tz": -330
    },
    "id": "TWu5sCKTn-wq",
    "outputId": "445b0723-dd8e-496d-9e0a-2a4873fc9ceb"
   },
   "outputs": [
    {
     "name": "stdout",
     "output_type": "stream",
     "text": [
      "Requirement already satisfied: googledrivedownloader in /opt/anaconda3/lib/python3.9/site-packages (0.4)\r\n"
     ]
    }
   ],
   "source": [
    "!pip install googledrivedownloader"
   ]
  },
  {
   "cell_type": "code",
   "execution_count": 3,
   "metadata": {
    "executionInfo": {
     "elapsed": 9538,
     "status": "ok",
     "timestamp": 1619000533788,
     "user": {
      "displayName": "Sayan Dey",
      "photoUrl": "https://lh3.googleusercontent.com/a-/AOh14GgqVHJ9o6-7idGiRbNNd4iVc1VjzvuPnwmAnvEtD6U=s64",
      "userId": "03603580465490055794"
     },
     "user_tz": -330
    },
    "id": "go2w2yTW1XRR"
   },
   "outputs": [
    {
     "name": "stdout",
     "output_type": "stream",
     "text": [
      "Downloading 0B29vNACcjvzVc1RfVkg5dUh2b1E into ./BHSig260.zip... Done.\n",
      "Unzipping...Done.\n"
     ]
    }
   ],
   "source": [
    "from google_drive_downloader import GoogleDriveDownloader as gdd\n",
    "\n",
    "gdd.download_file_from_google_drive(file_id='0B29vNACcjvzVc1RfVkg5dUh2b1E',\n",
    "                                    dest_path='./BHSig260.zip',\n",
    "                                    unzip=True)"
   ]
  },
  {
   "cell_type": "code",
   "execution_count": 39,
   "metadata": {
    "colab": {
     "base_uri": "https://localhost:8080/"
    },
    "executionInfo": {
     "elapsed": 9533,
     "status": "ok",
     "timestamp": 1619000533789,
     "user": {
      "displayName": "Sayan Dey",
      "photoUrl": "https://lh3.googleusercontent.com/a-/AOh14GgqVHJ9o6-7idGiRbNNd4iVc1VjzvuPnwmAnvEtD6U=s64",
      "userId": "03603580465490055794"
     },
     "user_tz": -330
    },
    "id": "RxNU2U7noUvi",
    "outputId": "7cf57cf1-ba39-4fde-a4f0-7b7ec412527e"
   },
   "outputs": [
    {
     "name": "stdout",
     "output_type": "stream",
     "text": [
      "total 844832\r\n",
      "drwxr-xr-x   4 sumo  staff        128 Dec  4 21:31 \u001b[34m101_ObjectCategories\u001b[m\u001b[m\r\n",
      "-rw-r--r--@  1 sumo  staff  128372777 Dec  4 21:30 101_ObjectCategories.zip\r\n",
      "drwxr-xr-x   4 sumo  staff        128 Dec  5 23:08 \u001b[34mBHSig260\u001b[m\u001b[m\r\n",
      "-rw-r--r--   1 sumo  staff   48500114 Dec  5 23:08 BHSig260.zip\r\n",
      "-rw-r--r--   1 sumo  staff      61186 Dec  4 23:40 CreatingModelAndDeployingWithTFserving.ipynb\r\n",
      "-rw-r--r--@  1 sumo  staff     183564 Dec  4 22:52 ExerciseForAdvDLBatch-Objectdetection_upadtesWith class.ipynb\r\n",
      "-rw-r--r--   1 sumo  staff       5263 Dec  5 23:05 FaceRecognition-Play.ipynb\r\n",
      "-rw-r--r--@  1 sumo  staff    5641366 Dec  5 12:28 Object_detection.ipynb\r\n",
      "-rw-r--r--@  1 sumo  staff      82774 Dec 11 19:50 Siamese Network _ SigNet BHSig260 Hindi Signatures-forAdvDLClass.ipynb\r\n",
      "-rw-r--r--   1 sumo  staff        588 Dec  4 19:12 Untitled.ipynb\r\n",
      "-rw-r--r--@  1 sumo  staff     257529 Dec  4 21:16 Yolo-Exrecise-class-WIth-Full-Yolov3_completed.ipynb\r\n",
      "drwxr-xr-x   6 sumo  staff        192 Dec  5 22:14 \u001b[34mdata\u001b[m\u001b[m\r\n",
      "drwxr-xr-x  25 sumo  staff        800 Dec  5 12:27 \u001b[34mkeras-retinanet\u001b[m\u001b[m\r\n",
      "-rw-r--r--   1 sumo  staff  248689840 Dec  4 21:09 model.h5\r\n",
      "-rw-r--r--@  1 sumo  staff     635628 Dec  4 21:30 train.csv\r\n",
      "-rw-r--r--@  1 sumo  staff      28979 Dec  4 21:31 validation.csv\r\n",
      "-rw-r--r--@  1 sumo  staff      64972 Dec  4 21:09 zebra.jpeg\r\n"
     ]
    }
   ],
   "source": [
    "!ls -l"
   ]
  },
  {
   "cell_type": "code",
   "execution_count": 40,
   "metadata": {
    "colab": {
     "base_uri": "https://localhost:8080/"
    },
    "executionInfo": {
     "elapsed": 9528,
     "status": "ok",
     "timestamp": 1619000533789,
     "user": {
      "displayName": "Sayan Dey",
      "photoUrl": "https://lh3.googleusercontent.com/a-/AOh14GgqVHJ9o6-7idGiRbNNd4iVc1VjzvuPnwmAnvEtD6U=s64",
      "userId": "03603580465490055794"
     },
     "user_tz": -330
    },
    "id": "q9WuX2d-864V",
    "outputId": "0a5213de-f372-4443-9e44-d91f4e9bdcfd"
   },
   "outputs": [
    {
     "name": "stdout",
     "output_type": "stream",
     "text": [
      "total 0\r\n",
      "drwxr-xr-x  105 sumo  staff  3360 Dec  5 23:08 \u001b[34mBengali\u001b[m\u001b[m\r\n",
      "drwxr-xr-x  165 sumo  staff  5280 Dec  5 23:08 \u001b[34mHindi\u001b[m\u001b[m\r\n"
     ]
    }
   ],
   "source": [
    "!ls -l BHSig260"
   ]
  },
  {
   "cell_type": "code",
   "execution_count": 41,
   "metadata": {
    "colab": {
     "base_uri": "https://localhost:8080/"
    },
    "executionInfo": {
     "elapsed": 9521,
     "status": "ok",
     "timestamp": 1619000533789,
     "user": {
      "displayName": "Sayan Dey",
      "photoUrl": "https://lh3.googleusercontent.com/a-/AOh14GgqVHJ9o6-7idGiRbNNd4iVc1VjzvuPnwmAnvEtD6U=s64",
      "userId": "03603580465490055794"
     },
     "user_tz": -330
    },
    "id": "stdqGXfq8_Go",
    "outputId": "a567265c-32b8-4c55-ed55-0012e406e4ea"
   },
   "outputs": [
    {
     "name": "stdout",
     "output_type": "stream",
     "text": [
      "total 29864\r\n",
      "-rw-r--r--  1 sumo  staff  278048 Dec  5 23:08 H-S-1-F-01.tif\r\n",
      "-rw-r--r--  1 sumo  staff  278048 Dec  5 23:08 H-S-1-F-02.tif\r\n",
      "-rw-r--r--  1 sumo  staff  290756 Dec  5 23:08 H-S-1-F-03.tif\r\n",
      "-rw-r--r--  1 sumo  staff  276374 Dec  5 23:08 H-S-1-F-04.tif\r\n",
      "-rw-r--r--  1 sumo  staff  277570 Dec  5 23:08 H-S-1-F-05.tif\r\n",
      "-rw-r--r--  1 sumo  staff  288976 Dec  5 23:08 H-S-1-F-06.tif\r\n",
      "-rw-r--r--  1 sumo  staff  274136 Dec  5 23:08 H-S-1-F-07.tif\r\n",
      "-rw-r--r--  1 sumo  staff  274136 Dec  5 23:08 H-S-1-F-08.tif\r\n",
      "-rw-r--r--  1 sumo  staff  294131 Dec  5 23:08 H-S-1-F-09.tif\r\n",
      "-rw-r--r--  1 sumo  staff  279026 Dec  5 23:08 H-S-1-F-10.tif\r\n",
      "-rw-r--r--  1 sumo  staff  279026 Dec  5 23:08 H-S-1-F-11.tif\r\n",
      "-rw-r--r--  1 sumo  staff  293100 Dec  5 23:08 H-S-1-F-12.tif\r\n",
      "-rw-r--r--  1 sumo  staff  278048 Dec  5 23:08 H-S-1-F-13.tif\r\n",
      "-rw-r--r--  1 sumo  staff  278332 Dec  5 23:08 H-S-1-F-14.tif\r\n",
      "-rw-r--r--  1 sumo  staff  290288 Dec  5 23:08 H-S-1-F-15.tif\r\n",
      "-rw-r--r--  1 sumo  staff  275395 Dec  5 23:08 H-S-1-F-16.tif\r\n",
      "-rw-r--r--  1 sumo  staff  275114 Dec  5 23:08 H-S-1-F-17.tif\r\n",
      "-rw-r--r--  1 sumo  staff  294131 Dec  5 23:08 H-S-1-F-18.tif\r\n",
      "-rw-r--r--  1 sumo  staff  279026 Dec  5 23:08 H-S-1-F-19.tif\r\n",
      "-rw-r--r--  1 sumo  staff  279026 Dec  5 23:08 H-S-1-F-20.tif\r\n",
      "-rw-r--r--  1 sumo  staff  292069 Dec  5 23:08 H-S-1-F-21.tif\r\n",
      "-rw-r--r--  1 sumo  staff  277070 Dec  5 23:08 H-S-1-F-22.tif\r\n",
      "-rw-r--r--  1 sumo  staff  277070 Dec  5 23:08 H-S-1-F-23.tif\r\n",
      "-rw-r--r--  1 sumo  staff  288696 Dec  5 23:08 H-S-1-F-24.tif\r\n",
      "-rw-r--r--  1 sumo  staff  274416 Dec  5 23:08 H-S-1-F-25.tif\r\n",
      "-rw-r--r--  1 sumo  staff  274136 Dec  5 23:08 H-S-1-F-26.tif\r\n",
      "-rw-r--r--  1 sumo  staff  278048 Dec  5 23:08 H-S-1-F-27.tif\r\n",
      "-rw-r--r--  1 sumo  staff  278048 Dec  5 23:08 H-S-1-F-28.tif\r\n",
      "-rw-r--r--  1 sumo  staff  288696 Dec  5 23:08 H-S-1-F-29.tif\r\n",
      "-rw-r--r--  1 sumo  staff  293100 Dec  5 23:08 H-S-1-F-30.tif\r\n",
      "-rw-r--r--  1 sumo  staff  276787 Dec  5 23:08 H-S-1-G-01.tif\r\n",
      "-rw-r--r--  1 sumo  staff  277353 Dec  5 23:08 H-S-1-G-02.tif\r\n",
      "-rw-r--r--  1 sumo  staff  290937 Dec  5 23:08 H-S-1-G-03.tif\r\n",
      "-rw-r--r--  1 sumo  staff  276787 Dec  5 23:08 H-S-1-G-04.tif\r\n",
      "-rw-r--r--  1 sumo  staff  277353 Dec  5 23:08 H-S-1-G-05.tif\r\n",
      "-rw-r--r--  1 sumo  staff  275810 Dec  5 23:08 H-S-1-G-06.tif\r\n",
      "-rw-r--r--  1 sumo  staff  276374 Dec  5 23:08 H-S-1-G-07.tif\r\n",
      "-rw-r--r--  1 sumo  staff  290937 Dec  5 23:08 H-S-1-G-08.tif\r\n",
      "-rw-r--r--  1 sumo  staff  276787 Dec  5 23:08 H-S-1-G-09.tif\r\n",
      "-rw-r--r--  1 sumo  staff  277353 Dec  5 23:08 H-S-1-G-10.tif\r\n",
      "-rw-r--r--  1 sumo  staff  289910 Dec  5 23:08 H-S-1-G-11.tif\r\n",
      "-rw-r--r--  1 sumo  staff  275810 Dec  5 23:08 H-S-1-G-12.tif\r\n",
      "-rw-r--r--  1 sumo  staff  276656 Dec  5 23:08 H-S-1-G-13.tif\r\n",
      "-rw-r--r--  1 sumo  staff  291964 Dec  5 23:08 H-S-1-G-14.tif\r\n",
      "-rw-r--r--  1 sumo  staff  277764 Dec  5 23:08 H-S-1-G-15.tif\r\n",
      "-rw-r--r--  1 sumo  staff  278332 Dec  5 23:08 H-S-1-G-16.tif\r\n",
      "-rw-r--r--  1 sumo  staff  290654 Dec  5 23:08 H-S-1-G-17.tif\r\n",
      "-rw-r--r--  1 sumo  staff  277070 Dec  5 23:08 H-S-1-G-18.tif\r\n",
      "-rw-r--r--  1 sumo  staff  277353 Dec  5 23:08 H-S-1-G-19.tif\r\n",
      "-rw-r--r--  1 sumo  staff  290937 Dec  5 23:08 H-S-1-G-20.tif\r\n",
      "-rw-r--r--  1 sumo  staff  276787 Dec  5 23:08 H-S-1-G-21.tif\r\n",
      "-rw-r--r--  1 sumo  staff  277636 Dec  5 23:08 H-S-1-G-22.tif\r\n",
      "-rw-r--r--  1 sumo  staff  275810 Dec  5 23:08 H-S-1-G-23.tif\r\n",
      "-rw-r--r--  1 sumo  staff  290937 Dec  5 23:08 H-S-1-G-24.tif\r\n"
     ]
    }
   ],
   "source": [
    "!ls -l BHSig260/Hindi/001"
   ]
  },
  {
   "cell_type": "markdown",
   "metadata": {
    "id": "4riEsNPriAzR"
   },
   "source": [
    "### Considering only Hindi signatures from the dataset."
   ]
  },
  {
   "cell_type": "code",
   "execution_count": 42,
   "metadata": {
    "executionInfo": {
     "elapsed": 9518,
     "status": "ok",
     "timestamp": 1619000533790,
     "user": {
      "displayName": "Sayan Dey",
      "photoUrl": "https://lh3.googleusercontent.com/a-/AOh14GgqVHJ9o6-7idGiRbNNd4iVc1VjzvuPnwmAnvEtD6U=s64",
      "userId": "03603580465490055794"
     },
     "user_tz": -330
    },
    "id": "9JUlueyvnWEh"
   },
   "outputs": [],
   "source": [
    "path = \"./BHSig260/Hindi/\""
   ]
  },
  {
   "cell_type": "code",
   "execution_count": 43,
   "metadata": {
    "executionInfo": {
     "elapsed": 9514,
     "status": "ok",
     "timestamp": 1619000533790,
     "user": {
      "displayName": "Sayan Dey",
      "photoUrl": "https://lh3.googleusercontent.com/a-/AOh14GgqVHJ9o6-7idGiRbNNd4iVc1VjzvuPnwmAnvEtD6U=s64",
      "userId": "03603580465490055794"
     },
     "user_tz": -330
    },
    "id": "Rp9uAdz8nWEi"
   },
   "outputs": [],
   "source": [
    "# Get the list of all directories and sort them\n",
    "dir_list = next(os.walk(path))[1]\n",
    "dir_list.sort()"
   ]
  },
  {
   "cell_type": "code",
   "execution_count": 44,
   "metadata": {
    "colab": {
     "base_uri": "https://localhost:8080/"
    },
    "executionInfo": {
     "elapsed": 9511,
     "status": "ok",
     "timestamp": 1619000533791,
     "user": {
      "displayName": "Sayan Dey",
      "photoUrl": "https://lh3.googleusercontent.com/a-/AOh14GgqVHJ9o6-7idGiRbNNd4iVc1VjzvuPnwmAnvEtD6U=s64",
      "userId": "03603580465490055794"
     },
     "user_tz": -330
    },
    "id": "RGVjXiD33BVC",
    "outputId": "cce63dd2-3f46-4b34-fd86-3d0c7f4027d9"
   },
   "outputs": [
    {
     "data": {
      "text/plain": [
       "['001',\n",
       " '002',\n",
       " '003',\n",
       " '004',\n",
       " '005',\n",
       " '006',\n",
       " '007',\n",
       " '008',\n",
       " '009',\n",
       " '010',\n",
       " '011',\n",
       " '012',\n",
       " '013',\n",
       " '014',\n",
       " '015',\n",
       " '016',\n",
       " '017',\n",
       " '018',\n",
       " '019',\n",
       " '020',\n",
       " '021',\n",
       " '022',\n",
       " '023',\n",
       " '024',\n",
       " '025',\n",
       " '026',\n",
       " '027',\n",
       " '028',\n",
       " '029',\n",
       " '030',\n",
       " '031',\n",
       " '032',\n",
       " '033',\n",
       " '034',\n",
       " '035',\n",
       " '036',\n",
       " '037',\n",
       " '038',\n",
       " '039',\n",
       " '040',\n",
       " '041',\n",
       " '042',\n",
       " '043',\n",
       " '044',\n",
       " '045',\n",
       " '046',\n",
       " '047',\n",
       " '048',\n",
       " '049',\n",
       " '050',\n",
       " '051',\n",
       " '052',\n",
       " '053',\n",
       " '054',\n",
       " '055',\n",
       " '056',\n",
       " '057',\n",
       " '058',\n",
       " '059',\n",
       " '060',\n",
       " '061',\n",
       " '062',\n",
       " '063',\n",
       " '064',\n",
       " '065',\n",
       " '066',\n",
       " '067',\n",
       " '068',\n",
       " '069',\n",
       " '070',\n",
       " '071',\n",
       " '072',\n",
       " '073',\n",
       " '074',\n",
       " '075',\n",
       " '076',\n",
       " '077',\n",
       " '078',\n",
       " '079',\n",
       " '080',\n",
       " '081',\n",
       " '082',\n",
       " '083',\n",
       " '084',\n",
       " '085',\n",
       " '086',\n",
       " '087',\n",
       " '088',\n",
       " '089',\n",
       " '090',\n",
       " '091',\n",
       " '092',\n",
       " '093',\n",
       " '094',\n",
       " '095',\n",
       " '096',\n",
       " '097',\n",
       " '098',\n",
       " '099',\n",
       " '100',\n",
       " '101',\n",
       " '102',\n",
       " '103',\n",
       " '104',\n",
       " '105',\n",
       " '106',\n",
       " '107',\n",
       " '108',\n",
       " '109',\n",
       " '110',\n",
       " '111',\n",
       " '112',\n",
       " '113',\n",
       " '114',\n",
       " '115',\n",
       " '116',\n",
       " '117',\n",
       " '118',\n",
       " '119',\n",
       " '120',\n",
       " '121',\n",
       " '122',\n",
       " '123',\n",
       " '124',\n",
       " '125',\n",
       " '126',\n",
       " '127',\n",
       " '128',\n",
       " '129',\n",
       " '130',\n",
       " '131',\n",
       " '132',\n",
       " '133',\n",
       " '134',\n",
       " '135',\n",
       " '136',\n",
       " '137',\n",
       " '138',\n",
       " '139',\n",
       " '140',\n",
       " '141',\n",
       " '142',\n",
       " '143',\n",
       " '144',\n",
       " '145',\n",
       " '146',\n",
       " '147',\n",
       " '148',\n",
       " '149',\n",
       " '150',\n",
       " '151',\n",
       " '152',\n",
       " '153',\n",
       " '154',\n",
       " '155',\n",
       " '156',\n",
       " '157',\n",
       " '158',\n",
       " '159',\n",
       " '160']"
      ]
     },
     "execution_count": 44,
     "metadata": {},
     "output_type": "execute_result"
    }
   ],
   "source": [
    "dir_list"
   ]
  },
  {
   "cell_type": "code",
   "execution_count": 45,
   "metadata": {
    "executionInfo": {
     "elapsed": 9506,
     "status": "ok",
     "timestamp": 1619000533791,
     "user": {
      "displayName": "Sayan Dey",
      "photoUrl": "https://lh3.googleusercontent.com/a-/AOh14GgqVHJ9o6-7idGiRbNNd4iVc1VjzvuPnwmAnvEtD6U=s64",
      "userId": "03603580465490055794"
     },
     "user_tz": -330
    },
    "id": "tgDwb6QinWEk"
   },
   "outputs": [],
   "source": [
    "# For each person segregate the genuine signatures from the forged signatures\n",
    "# Genuine signatures are stored in the list \"orig_groups\"\n",
    "# Forged signatures are stored in the list \"forged_groups\"\n",
    "orig_groups, forg_groups = [], []\n",
    "for directory in dir_list:\n",
    "    images = os.listdir(path+directory)\n",
    "    images.sort()\n",
    "    images = [path+directory+'/'+x for x in images]\n",
    "    forg_groups.append(images[:30]) # First 30 signatures in each folder are forged\n",
    "    orig_groups.append(images[30:]) # Next 24 signatures are genuine"
   ]
  },
  {
   "cell_type": "code",
   "execution_count": 46,
   "metadata": {
    "colab": {
     "base_uri": "https://localhost:8080/"
    },
    "executionInfo": {
     "elapsed": 9503,
     "status": "ok",
     "timestamp": 1619000533792,
     "user": {
      "displayName": "Sayan Dey",
      "photoUrl": "https://lh3.googleusercontent.com/a-/AOh14GgqVHJ9o6-7idGiRbNNd4iVc1VjzvuPnwmAnvEtD6U=s64",
      "userId": "03603580465490055794"
     },
     "user_tz": -330
    },
    "id": "d3I2PbRpnWEm",
    "outputId": "bb3fd4a9-b7a4-4044-f295-b6d0b84532fc"
   },
   "outputs": [
    {
     "data": {
      "text/plain": [
       "(160, 160)"
      ]
     },
     "execution_count": 46,
     "metadata": {},
     "output_type": "execute_result"
    }
   ],
   "source": [
    "# Quick check to confirm we have data of all the 160 individuals\n",
    "len(orig_groups), len(forg_groups)"
   ]
  },
  {
   "cell_type": "code",
   "execution_count": 47,
   "metadata": {
    "executionInfo": {
     "elapsed": 9498,
     "status": "ok",
     "timestamp": 1619000533792,
     "user": {
      "displayName": "Sayan Dey",
      "photoUrl": "https://lh3.googleusercontent.com/a-/AOh14GgqVHJ9o6-7idGiRbNNd4iVc1VjzvuPnwmAnvEtD6U=s64",
      "userId": "03603580465490055794"
     },
     "user_tz": -330
    },
    "id": "J2wsugOEnWEq"
   },
   "outputs": [],
   "source": [
    "orig_lengths = [len(x) for x in orig_groups]\n",
    "forg_lengths = [len(x) for x in forg_groups]"
   ]
  },
  {
   "cell_type": "code",
   "execution_count": 48,
   "metadata": {
    "colab": {
     "base_uri": "https://localhost:8080/"
    },
    "executionInfo": {
     "elapsed": 9495,
     "status": "ok",
     "timestamp": 1619000533793,
     "user": {
      "displayName": "Sayan Dey",
      "photoUrl": "https://lh3.googleusercontent.com/a-/AOh14GgqVHJ9o6-7idGiRbNNd4iVc1VjzvuPnwmAnvEtD6U=s64",
      "userId": "03603580465490055794"
     },
     "user_tz": -330
    },
    "id": "k2BcZNg4nWEr",
    "outputId": "c22f2099-f8d3-47f3-dd15-ae4026ac855a"
   },
   "outputs": [
    {
     "name": "stdout",
     "output_type": "stream",
     "text": [
      "[24, 24, 24, 24, 24, 24, 24, 24, 24, 24, 24, 24, 24, 24, 24, 24, 24, 24, 24, 24, 24, 24, 24, 24, 24, 24, 24, 24, 24, 24, 24, 24, 24, 24, 24, 24, 24, 24, 24, 24, 24, 24, 24, 24, 24, 24, 24, 24, 24, 24, 24, 24, 24, 24, 24, 24, 24, 24, 24, 24, 24, 24, 24, 24, 24, 24, 24, 24, 24, 24, 24, 24, 24, 24, 24, 24, 24, 24, 24, 24, 24, 24, 24, 24, 24, 24, 24, 24, 24, 24, 24, 24, 24, 24, 24, 24, 24, 24, 24, 24, 24, 24, 24, 24, 24, 24, 24, 24, 24, 24, 24, 24, 24, 24, 24, 24, 24, 24, 24, 24, 24, 24, 24, 24, 24, 24, 24, 24, 24, 24, 24, 24, 24, 24, 24, 24, 24, 24, 24, 24, 24, 24, 24, 24, 24, 24, 24, 24, 24, 24, 24, 24, 24, 24, 24, 24, 24, 24, 24, 24]\n"
     ]
    }
   ],
   "source": [
    "# Quick check to confirm that there are 24 Genuine signatures for each individual\n",
    "print(orig_lengths)"
   ]
  },
  {
   "cell_type": "code",
   "execution_count": 49,
   "metadata": {
    "colab": {
     "base_uri": "https://localhost:8080/"
    },
    "executionInfo": {
     "elapsed": 9490,
     "status": "ok",
     "timestamp": 1619000533793,
     "user": {
      "displayName": "Sayan Dey",
      "photoUrl": "https://lh3.googleusercontent.com/a-/AOh14GgqVHJ9o6-7idGiRbNNd4iVc1VjzvuPnwmAnvEtD6U=s64",
      "userId": "03603580465490055794"
     },
     "user_tz": -330
    },
    "id": "6BRlxrMynWEu",
    "outputId": "d16b7357-ad43-4193-a888-52c5696c9e34"
   },
   "outputs": [
    {
     "name": "stdout",
     "output_type": "stream",
     "text": [
      "[30, 30, 30, 30, 30, 30, 30, 30, 30, 30, 30, 30, 30, 30, 30, 30, 30, 30, 30, 30, 30, 30, 30, 30, 30, 30, 30, 30, 30, 30, 30, 30, 30, 30, 30, 30, 30, 30, 30, 30, 30, 30, 30, 30, 30, 30, 30, 30, 30, 30, 30, 30, 30, 30, 30, 30, 30, 30, 30, 30, 30, 30, 30, 30, 30, 30, 30, 30, 30, 30, 30, 30, 30, 30, 30, 30, 30, 30, 30, 30, 30, 30, 30, 30, 30, 30, 30, 30, 30, 30, 30, 30, 30, 30, 30, 30, 30, 30, 30, 30, 30, 30, 30, 30, 30, 30, 30, 30, 30, 30, 30, 30, 30, 30, 30, 30, 30, 30, 30, 30, 30, 30, 30, 30, 30, 30, 30, 30, 30, 30, 30, 30, 30, 30, 30, 30, 30, 30, 30, 30, 30, 30, 30, 30, 30, 30, 30, 30, 30, 30, 30, 30, 30, 30, 30, 30, 30, 30, 30, 30]\n"
     ]
    }
   ],
   "source": [
    "# Quick check to confirm that there are 30 Forged signatures for each individual\n",
    "print(forg_lengths)"
   ]
  },
  {
   "cell_type": "markdown",
   "metadata": {
    "id": "qEnPfM3YnWEw"
   },
   "source": [
    "#### Train-Validation-Test Split\n",
    "* Signatures of 120 people are used for training\n",
    "* Signatures of 20 people are used for validation\n",
    "* Signatures of 20 people are used for testing"
   ]
  },
  {
   "cell_type": "code",
   "execution_count": 50,
   "metadata": {
    "executionInfo": {
     "elapsed": 9486,
     "status": "ok",
     "timestamp": 1619000533794,
     "user": {
      "displayName": "Sayan Dey",
      "photoUrl": "https://lh3.googleusercontent.com/a-/AOh14GgqVHJ9o6-7idGiRbNNd4iVc1VjzvuPnwmAnvEtD6U=s64",
      "userId": "03603580465490055794"
     },
     "user_tz": -330
    },
    "id": "CKzLFT5snWEx"
   },
   "outputs": [],
   "source": [
    "orig_train, orig_val, orig_test = orig_groups[:120], orig_groups[120:140], orig_groups[140:]\n",
    "forg_train, forg_val, forg_test = forg_groups[:120], forg_groups[120:140], forg_groups[140:]"
   ]
  },
  {
   "cell_type": "code",
   "execution_count": 51,
   "metadata": {
    "executionInfo": {
     "elapsed": 9483,
     "status": "ok",
     "timestamp": 1619000533794,
     "user": {
      "displayName": "Sayan Dey",
      "photoUrl": "https://lh3.googleusercontent.com/a-/AOh14GgqVHJ9o6-7idGiRbNNd4iVc1VjzvuPnwmAnvEtD6U=s64",
      "userId": "03603580465490055794"
     },
     "user_tz": -330
    },
    "id": "tB0Q2clbnWE0"
   },
   "outputs": [],
   "source": [
    "# Delete unnecessary variables\n",
    "del orig_groups, forg_groups"
   ]
  },
  {
   "cell_type": "code",
   "execution_count": 52,
   "metadata": {
    "executionInfo": {
     "elapsed": 9481,
     "status": "ok",
     "timestamp": 1619000533795,
     "user": {
      "displayName": "Sayan Dey",
      "photoUrl": "https://lh3.googleusercontent.com/a-/AOh14GgqVHJ9o6-7idGiRbNNd4iVc1VjzvuPnwmAnvEtD6U=s64",
      "userId": "03603580465490055794"
     },
     "user_tz": -330
    },
    "id": "efvMVtVanWE2"
   },
   "outputs": [],
   "source": [
    "# All the images will be converted to the same size before processing\n",
    "img_h, img_w = 155, 220"
   ]
  },
  {
   "cell_type": "code",
   "execution_count": 53,
   "metadata": {
    "executionInfo": {
     "elapsed": 9479,
     "status": "ok",
     "timestamp": 1619000533796,
     "user": {
      "displayName": "Sayan Dey",
      "photoUrl": "https://lh3.googleusercontent.com/a-/AOh14GgqVHJ9o6-7idGiRbNNd4iVc1VjzvuPnwmAnvEtD6U=s64",
      "userId": "03603580465490055794"
     },
     "user_tz": -330
    },
    "id": "dSxGYc3ZnWE5"
   },
   "outputs": [],
   "source": [
    "def visualize_sample_signature():\n",
    "    '''Function to randomly select a signature from train set and\n",
    "    print two genuine copies and one forged copy'''\n",
    "    fig, (ax1, ax2, ax3) = plt.subplots(1, 3, figsize = (15, 10))\n",
    "    k = np.random.randint(len(orig_train))\n",
    "    orig_img_names = random.sample(orig_train[k], 2)\n",
    "    forg_img_name = random.sample(forg_train[k], 1)\n",
    "    orig_img1 = cv2.imread(orig_img_names[0], 0)\n",
    "    orig_img2 = cv2.imread(orig_img_names[1], 0)\n",
    "    forg_img = cv2.imread(forg_img_name[0], 0)\n",
    "    orig_img1 = cv2.resize(orig_img1, (img_w, img_h))\n",
    "    orig_img2 = cv2.resize(orig_img2, (img_w, img_h))\n",
    "    forg_img = cv2.resize(forg_img, (img_w, img_h))\n",
    "\n",
    "    ax1.imshow(orig_img1, cmap = 'gray')\n",
    "    ax2.imshow(orig_img2, cmap = 'gray')\n",
    "    ax3.imshow(forg_img, cmap = 'gray')\n",
    "\n",
    "    ax1.set_title('Genuine Copy')\n",
    "    ax1.axis('off')\n",
    "    ax2.set_title('Genuine Copy')\n",
    "    ax2.axis('off')\n",
    "    ax3.set_title('Forged Copy')\n",
    "    ax3.axis('off')"
   ]
  },
  {
   "cell_type": "code",
   "execution_count": 54,
   "metadata": {
    "colab": {
     "base_uri": "https://localhost:8080/",
     "height": 220
    },
    "executionInfo": {
     "elapsed": 9474,
     "status": "ok",
     "timestamp": 1619000533796,
     "user": {
      "displayName": "Sayan Dey",
      "photoUrl": "https://lh3.googleusercontent.com/a-/AOh14GgqVHJ9o6-7idGiRbNNd4iVc1VjzvuPnwmAnvEtD6U=s64",
      "userId": "03603580465490055794"
     },
     "user_tz": -330
    },
    "id": "1ZsvrJh6nWE7",
    "outputId": "c4a6b5cc-1c54-4387-a13b-0a11b886acf7"
   },
   "outputs": [
    {
     "data": {
      "image/png": "[encoded data removed]",
      "text/plain": [
       "<Figure size 1080x720 with 3 Axes>"
      ]
     },
     "metadata": {
      "needs_background": "light"
     },
     "output_type": "display_data"
    }
   ],
   "source": [
    "visualize_sample_signature()"
   ]
  },
  {
   "cell_type": "code",
   "execution_count": 64,
   "metadata": {
    "executionInfo": {
     "elapsed": 9470,
     "status": "ok",
     "timestamp": 1619000533798,
     "user": {
      "displayName": "Sayan Dey",
      "photoUrl": "https://lh3.googleusercontent.com/a-/AOh14GgqVHJ9o6-7idGiRbNNd4iVc1VjzvuPnwmAnvEtD6U=s64",
      "userId": "03603580465490055794"
     },
     "user_tz": -330
    },
    "id": "_ck9wd_AnWFa"
   },
   "outputs": [],
   "source": [
    "def generate_batch(orig_groups, forg_groups, batch_size = 32):\n",
    "    '''Function to generate a batch of data with batch_size number of data points\n",
    "    Half of the data points will be Genuine-Genuine pairs and half will be Genuine-Forged pairs'''\n",
    "    while True:\n",
    "        orig_pairs = []\n",
    "        forg_pairs = []\n",
    "        gen_gen_labels = []\n",
    "        gen_for_labels = []\n",
    "        all_pairs = []\n",
    "        all_labels = []\n",
    "        \n",
    "        # Here we create pairs of Genuine-Genuine image names and Genuine-Forged image names\n",
    "        # For every person we have 24 genuine signatures, hence we have \n",
    "        # 24 choose 2 = 276 Genuine-Genuine image pairs for one person.\n",
    "        # To make Genuine-Forged pairs, we pair every Genuine signature of a person\n",
    "        # with 12 randomly sampled Forged signatures of the same person.\n",
    "        # Thus we make 24 * 12 = 300 Genuine-Forged image pairs for one person.\n",
    "        # In all we have 120 person's data in the training data.\n",
    "        # Total no. of Genuine-Genuine pairs = 120 * 276 = 33120\n",
    "        # Total number of Genuine-Forged pairs = 120 * 300 = 36000\n",
    "        # Total no. of data points = 33120 + 36000 = 69120\n",
    "        for orig, forg in zip(orig_groups, forg_groups):\n",
    "            orig_pairs.extend(list(itertools.combinations(orig, 2)))\n",
    "            for i in range(len(forg)):\n",
    "                forg_pairs.extend(list(itertools.product(orig[i:i+1], random.sample(forg, 12))))\n",
    "        \n",
    "        # Label for Genuine-Genuine pairs is 1\n",
    "        # Label for Genuine-Forged pairs is 0\n",
    "        gen_gen_labels = [1]*len(orig_pairs)\n",
    "        gen_for_labels = [0]*len(forg_pairs)\n",
    "        \n",
    "        # Concatenate all the pairs together along with their labels and shuffle them\n",
    "        all_pairs = orig_pairs + forg_pairs\n",
    "        all_labels = gen_gen_labels + gen_for_labels\n",
    "        del orig_pairs, forg_pairs, gen_gen_labels, gen_for_labels\n",
    "        all_pairs, all_labels = shuffle(all_pairs, all_labels)\n",
    "        \n",
    "        # Note the lists above contain only the image names and\n",
    "        # actual images are loaded and yielded below in batches\n",
    "        # Below we prepare a batch of data points and yield the batch\n",
    "        # In each batch we load \"batch_size\" number of image pairs\n",
    "        # These images are then removed from the original set so that\n",
    "        # they are not added again in the next batch.\n",
    "            \n",
    "        k = 0\n",
    "        pairs=[np.zeros((batch_size, img_h, img_w, 1)) for i in range(2)]\n",
    "        targets=np.zeros((batch_size,))\n",
    "        for ix, pair in enumerate(all_pairs):\n",
    "            img1 = cv2.imread(pair[0], 0)\n",
    "            img2 = cv2.imread(pair[1], 0)\n",
    "            img1 = cv2.resize(img1, (img_w, img_h))\n",
    "            img2 = cv2.resize(img2, (img_w, img_h))\n",
    "            img1 = np.array(img1, dtype = np.float64)\n",
    "            img2 = np.array(img2, dtype = np.float64)\n",
    "            img1 /= 255\n",
    "            img2 /= 255\n",
    "            img1 = img1[..., np.newaxis]\n",
    "            img2 = img2[..., np.newaxis]\n",
    "            pairs[0][k, :, :, :] = img1\n",
    "            pairs[1][k, :, :, :] = img2\n",
    "            targets[k] = all_labels[ix]\n",
    "            k += 1\n",
    "            if k == batch_size:\n",
    "                yield pairs, targets\n",
    "                k = 0\n",
    "                pairs=[np.zeros((batch_size, img_h, img_w, 1)) for i in range(2)]\n",
    "                targets=np.zeros((batch_size,))"
   ]
  },
  {
   "cell_type": "code",
   "execution_count": 67,
   "metadata": {
    "executionInfo": {
     "elapsed": 9467,
     "status": "ok",
     "timestamp": 1619000533798,
     "user": {
      "displayName": "Sayan Dey",
      "photoUrl": "https://lh3.googleusercontent.com/a-/AOh14GgqVHJ9o6-7idGiRbNNd4iVc1VjzvuPnwmAnvEtD6U=s64",
      "userId": "03603580465490055794"
     },
     "user_tz": -330
    },
    "id": "eMaOGzbRnWFb"
   },
   "outputs": [],
   "source": [
    "def euclidean_distance(vects):\n",
    "    '''Compute Euclidean Distance between two vectors'''\n",
    "    x, y = vects\n",
    "    return tf.keras.backend.sqrt(tf.keras.backend.sum(tf.keras.backend.square(x-y), axis=1, keepdims=True))"
   ]
  },
  {
   "cell_type": "code",
   "execution_count": 68,
   "metadata": {
    "executionInfo": {
     "elapsed": 9464,
     "status": "ok",
     "timestamp": 1619000533798,
     "user": {
      "displayName": "Sayan Dey",
      "photoUrl": "https://lh3.googleusercontent.com/a-/AOh14GgqVHJ9o6-7idGiRbNNd4iVc1VjzvuPnwmAnvEtD6U=s64",
      "userId": "03603580465490055794"
     },
     "user_tz": -330
    },
    "id": "q2QzzPdsnWFd"
   },
   "outputs": [],
   "source": [
    "def eucl_dist_output_shape(shapes):\n",
    "    shape1, shape2 = shapes\n",
    "    return(shape1[0],1)"
   ]
  },
  {
   "cell_type": "code",
   "execution_count": 69,
   "metadata": {
    "executionInfo": {
     "elapsed": 9461,
     "status": "ok",
     "timestamp": 1619000533799,
     "user": {
      "displayName": "Sayan Dey",
      "photoUrl": "https://lh3.googleusercontent.com/a-/AOh14GgqVHJ9o6-7idGiRbNNd4iVc1VjzvuPnwmAnvEtD6U=s64",
      "userId": "03603580465490055794"
     },
     "user_tz": -330
    },
    "id": "YZogiZ3UnWFf"
   },
   "outputs": [],
   "source": [
    "def contrastive_loss(y_true, y_pred):\n",
    "\n",
    "    # y_pred : Eucledean distance for each pair of images\n",
    "    # y_true : 1 for Genuine-genuine pair, 0 otherwise\n",
    "    '''Contrastive loss from Hadsell-et-al.'06\n",
    "    Source: http://yann.lecun.com/exdb/publis/pdf/hadsell-chopra-lecun-06.pdf\n",
    "    \n",
    "    Explanation:\n",
    "    When ytrue is 1, that means the sample are duplicates of each other, \n",
    "    so the Euclidean distance (ypred) between their outputs must be minimized.\n",
    "    So the loss is taken as the square of that Euclidean distance itself - square(y_pred).\n",
    "    When ytrue is 0, i.e. the samples are not duplicates, then the Euclidean distance \n",
    "    between them must be maximized, at least to the margin. So the loss to be minimized\n",
    "    is the difference of the margin and the Euclidean distance - (margin - y_pred).\n",
    "    If the Euclidean distance (ypred) is already greater than the margin, \n",
    "    then nothing is to be learned, so the loss is made to be zero in \n",
    "    that case by saying maximum(margin - y_pred, 0).\n",
    "    '''\n",
    "    margin = 1\n",
    "    return tf.keras.backend.mean(y_true * tf.keras.backend.square(y_pred)+ (1-y_true)*tf.keras.backend.square(tf.keras.backend.maximum(margin-y_pred,0)))"
   ]
  },
  {
   "cell_type": "code",
   "execution_count": 70,
   "metadata": {
    "executionInfo": {
     "elapsed": 9458,
     "status": "ok",
     "timestamp": 1619000533799,
     "user": {
      "displayName": "Sayan Dey",
      "photoUrl": "https://lh3.googleusercontent.com/a-/AOh14GgqVHJ9o6-7idGiRbNNd4iVc1VjzvuPnwmAnvEtD6U=s64",
      "userId": "03603580465490055794"
     },
     "user_tz": -330
    },
    "id": "X_ZCMO1PnWFg"
   },
   "outputs": [],
   "source": [
    "def create_base_network_signet(input_shape):\n",
    "    \n",
    "    '''Base Siamese Network'''\n",
    "    seq = tf.keras.models.Sequential()\n",
    "    seq.add(tf.keras.layers.Conv2D(96,kernel_size=(11,11), activation='relu', name='conv1_1', strides=4, input_shape=input_shape))\n",
    "    seq.add(tf.keras.layers.BatchNormalization())\n",
    "    seq.add(tf.keras.layers.MaxPooling2D((3,3), strides=(2,2)))\n",
    "    seq.add(tf.keras.layers.ZeroPadding2D((2,2)))\n",
    "    \n",
    "    seq.add(tf.keras.layers.Conv2D(256,kernel_size=(5,5), activation='relu', name='conv2_1', input_shape=input_shape))\n",
    "    seq.add(tf.keras.layers.BatchNormalization())\n",
    "    seq.add(tf.keras.layers.MaxPooling2D((3,3), strides=(2,2)))\n",
    "    seq.add(tf.keras.layers.Dropout(0.3))\n",
    "    seq.add(tf.keras.layers.ZeroPadding2D((1,1)))\n",
    "    \n",
    "    seq.add(tf.keras.layers.Conv2D(384,kernel_size=(3,3), activation='relu', name='conv3_1', input_shape=input_shape))\n",
    "    seq.add(tf.keras.layers.ZeroPadding2D((1,1)))\n",
    "    seq.add(tf.keras.layers.Conv2D(256,kernel_size=(3,3), activation='relu', name='conv3_2', input_shape=input_shape))\n",
    "    seq.add(tf.keras.layers.MaxPooling2D((3,3), strides=(2,2)))\n",
    "    seq.add(tf.keras.layers.Dropout(0.3))\n",
    "    \n",
    "    #feature extraction complete\n",
    "    \n",
    "    seq.add(tf.keras.layers.Flatten(name='flatten'))\n",
    "    seq.add(tf.keras.layers.Dense(1024, activation='relu'))\n",
    "    seq.add(tf.keras.layers.Dropout(0.5))\n",
    "    seq.add(tf.keras.layers.Dense(128, activation='relu'))\n",
    "    \n",
    "    return seq\n",
    "    "
   ]
  },
  {
   "cell_type": "code",
   "execution_count": 71,
   "metadata": {
    "executionInfo": {
     "elapsed": 9456,
     "status": "ok",
     "timestamp": 1619000533800,
     "user": {
      "displayName": "Sayan Dey",
      "photoUrl": "https://lh3.googleusercontent.com/a-/AOh14GgqVHJ9o6-7idGiRbNNd4iVc1VjzvuPnwmAnvEtD6U=s64",
      "userId": "03603580465490055794"
     },
     "user_tz": -330
    },
    "id": "ATNgZH4DnWFi"
   },
   "outputs": [],
   "source": [
    "input_shape=(img_h, img_w, 1)"
   ]
  },
  {
   "cell_type": "code",
   "execution_count": 72,
   "metadata": {
    "executionInfo": {
     "elapsed": 11252,
     "status": "ok",
     "timestamp": 1619000535599,
     "user": {
      "displayName": "Sayan Dey",
      "photoUrl": "https://lh3.googleusercontent.com/a-/AOh14GgqVHJ9o6-7idGiRbNNd4iVc1VjzvuPnwmAnvEtD6U=s64",
      "userId": "03603580465490055794"
     },
     "user_tz": -330
    },
    "id": "fERanusdnWFk"
   },
   "outputs": [],
   "source": [
    "tf.keras.backend.clear_session()\n",
    "\n",
    "# network definition\n",
    "base_network = create_base_network_signet(input_shape)\n",
    "\n",
    "input_a = tf.keras.layers.Input(shape=(input_shape))\n",
    "input_b = tf.keras.layers.Input(shape=(input_shape))\n",
    "\n",
    "# because we re-use the same instance `base_network`,\n",
    "# the weights of the network\n",
    "# will be shared across the two branches\n",
    "processed_a = base_network(input_a)\n",
    "processed_b = base_network(input_b)\n",
    "\n",
    "# Compute the Euclidean distance between the two vectors in the latent space\n",
    "distance = tf.keras.layers.Lambda(euclidean_distance, output_shape=eucl_dist_output_shape)([processed_a, processed_b])\n",
    "\n",
    "model = tf.keras.Model([input_a, input_b], distance)"
   ]
  },
  {
   "cell_type": "code",
   "execution_count": 73,
   "metadata": {
    "colab": {
     "base_uri": "https://localhost:8080/"
    },
    "executionInfo": {
     "elapsed": 11249,
     "status": "ok",
     "timestamp": 1619000535600,
     "user": {
      "displayName": "Sayan Dey",
      "photoUrl": "https://lh3.googleusercontent.com/a-/AOh14GgqVHJ9o6-7idGiRbNNd4iVc1VjzvuPnwmAnvEtD6U=s64",
      "userId": "03603580465490055794"
     },
     "user_tz": -330
    },
    "id": "FFapGH04t_Of",
    "outputId": "d3b9496a-526b-4efb-9602-ab527f7851ec"
   },
   "outputs": [
    {
     "name": "stdout",
     "output_type": "stream",
     "text": [
      "Model: \"model\"\n",
      "__________________________________________________________________________________________________\n",
      "Layer (type)                    Output Shape         Param #     Connected to                     \n",
      "==================================================================================================\n",
      "input_1 (InputLayer)            [(None, 155, 220, 1) 0                                            \n",
      "__________________________________________________________________________________________________\n",
      "input_2 (InputLayer)            [(None, 155, 220, 1) 0                                            \n",
      "__________________________________________________________________________________________________\n",
      "sequential (Sequential)         (None, 128)          6462272     input_1[0][0]                    \n",
      "                                                                 input_2[0][0]                    \n",
      "__________________________________________________________________________________________________\n",
      "lambda (Lambda)                 (None, 1)            0           sequential[0][0]                 \n",
      "                                                                 sequential[1][0]                 \n",
      "==================================================================================================\n",
      "Total params: 6,462,272\n",
      "Trainable params: 6,461,568\n",
      "Non-trainable params: 704\n",
      "__________________________________________________________________________________________________\n"
     ]
    }
   ],
   "source": [
    "model.summary()"
   ]
  },
  {
   "cell_type": "code",
   "execution_count": null,
   "metadata": {
    "colab": {
     "base_uri": "https://localhost:8080/"
    },
    "executionInfo": {
     "elapsed": 11243,
     "status": "ok",
     "timestamp": 1619000535600,
     "user": {
      "displayName": "Sayan Dey",
      "photoUrl": "https://lh3.googleusercontent.com/a-/AOh14GgqVHJ9o6-7idGiRbNNd4iVc1VjzvuPnwmAnvEtD6U=s64",
      "userId": "03603580465490055794"
     },
     "user_tz": -330
    },
    "id": "VD6jzf-XnWFn",
    "outputId": "0bf97a73-c38f-4873-a05a-f4644b0b1e9e"
   },
   "outputs": [],
   "source": [
    "batch_sz = 128\n",
    "num_train_samples = 276*120 + 300*120\n",
    "num_val_samples = num_test_samples = 276*20 + 300*20\n",
    "num_train_samples, num_val_samples, num_test_samples"
   ]
  },
  {
   "cell_type": "code",
   "execution_count": null,
   "metadata": {
    "executionInfo": {
     "elapsed": 11239,
     "status": "ok",
     "timestamp": 1619000535600,
     "user": {
      "displayName": "Sayan Dey",
      "photoUrl": "https://lh3.googleusercontent.com/a-/AOh14GgqVHJ9o6-7idGiRbNNd4iVc1VjzvuPnwmAnvEtD6U=s64",
      "userId": "03603580465490055794"
     },
     "user_tz": -330
    },
    "id": "eGGpGBl-nWFq"
   },
   "outputs": [],
   "source": [
    "# compile model using RMSProp Optimizer and Contrastive loss function defined above\n"
   ]
  },
  {
   "cell_type": "code",
   "execution_count": null,
   "metadata": {
    "executionInfo": {
     "elapsed": 11237,
     "status": "ok",
     "timestamp": 1619000535601,
     "user": {
      "displayName": "Sayan Dey",
      "photoUrl": "https://lh3.googleusercontent.com/a-/AOh14GgqVHJ9o6-7idGiRbNNd4iVc1VjzvuPnwmAnvEtD6U=s64",
      "userId": "03603580465490055794"
     },
     "user_tz": -330
    },
    "id": "Ez4LVXT3nWFs"
   },
   "outputs": [],
   "source": [
    "# Using Keras Callbacks, save the model after every epoch\n",
    "# Reduce the learning rate by a factor of 0.1 if the validation loss does not improve for 5 epochs\n",
    "# Stop the training using early stopping if the validation loss does not improve for 12 epochs\n",
    "callbacks = [\n",
    "    tf.keras.callbacks.EarlyStopping(patience=12, verbose=1),\n",
    "    tf.keras.callbacks.ReduceLROnPlateau(factor=0.1, patience=5, min_lr=0.000001, verbose=1),\n",
    "    tf.keras.callbacks.ModelCheckpoint('./signet-bhsig260-{epoch:03d}.h5', verbose=1, save_weights_only=True)\n",
    "]"
   ]
  },
  {
   "cell_type": "code",
   "execution_count": null,
   "metadata": {
    "executionInfo": {
     "elapsed": 6707,
     "status": "ok",
     "timestamp": 1619000535601,
     "user": {
      "displayName": "Sayan Dey",
      "photoUrl": "https://lh3.googleusercontent.com/a-/AOh14GgqVHJ9o6-7idGiRbNNd4iVc1VjzvuPnwmAnvEtD6U=s64",
      "userId": "03603580465490055794"
     },
     "user_tz": -330
    },
    "id": "1UMxbpCxqHDQ"
   },
   "outputs": [],
   "source": [
    "train_generator = generate_batch(orig_train, forg_train, batch_sz)\n",
    "test_generator = generate_batch(orig_val, forg_val, batch_sz)"
   ]
  },
  {
   "cell_type": "code",
   "execution_count": null,
   "metadata": {
    "colab": {
     "base_uri": "https://localhost:8080/"
    },
    "id": "yU3jpTHWnWFt",
    "outputId": "6f5aa429-e3bc-4f58-ccc8-f35bb07a1569"
   },
   "outputs": [],
   "source": []
  },
  {
   "cell_type": "code",
   "execution_count": null,
   "metadata": {
    "id": "RgwaDY_0YTxj"
   },
   "outputs": [],
   "source": [
    "!ls -l"
   ]
  },
  {
   "cell_type": "markdown",
   "metadata": {
    "id": "8-P6xy_JJk3e"
   },
   "source": [
    "### Accuracy and Threshold"
   ]
  },
  {
   "cell_type": "code",
   "execution_count": null,
   "metadata": {
    "id": "H6sQrs2VnWFx"
   },
   "outputs": [],
   "source": [
    "def compute_accuracy_thresh(predictions, labels):\n",
    "    '''Compute accuracy with a range of thresholds on distances.\n",
    "    '''\n",
    "    dmax = np.max(predictions)\n",
    "    dmin = np.min(predictions)\n",
    "    nsame = np.sum(labels == 1)\n",
    "    ndiff = np.sum(labels == 0)\n",
    "   \n",
    "    step = 0.01\n",
    "    max_acc = 0\n",
    "    best_thresh = -1\n",
    "   \n",
    "    for d in np.arange(dmin, dmax+step, step):\n",
    "        idx1 = predictions.ravel() <= d\n",
    "        idx2 = predictions.ravel() > d\n",
    "       \n",
    "        tpr = float(np.sum(labels[idx1] == 1)) / nsame       \n",
    "        tnr = float(np.sum(labels[idx2] == 0)) / ndiff\n",
    "        acc = 0.5 * (tpr + tnr)       \n",
    "             \n",
    "        if (acc > max_acc):\n",
    "            max_acc, best_thresh = acc, d\n",
    "           \n",
    "    return max_acc, best_thresh"
   ]
  },
  {
   "cell_type": "markdown",
   "metadata": {
    "id": "XYtVsXTtnWFy"
   },
   "source": [
    "#### Load the weights from the epoch which gave the best validation accuracy"
   ]
  },
  {
   "cell_type": "code",
   "execution_count": null,
   "metadata": {
    "id": "ZNp3lXV7nWFy"
   },
   "outputs": [],
   "source": [
    "model.load_weights('./signet-bhsig260-001.h5')"
   ]
  },
  {
   "cell_type": "code",
   "execution_count": null,
   "metadata": {
    "id": "khoJxhf4nWF0"
   },
   "outputs": [],
   "source": [
    "test_gen = generate_batch(orig_test, forg_test, 1)\n",
    "pred, tr_y = [], []\n",
    "for i in range(num_test_samples):\n",
    "    (img1, img2), label = next(test_gen)\n",
    "    tr_y.append(label)\n",
    "    pred.append(model.predict([img1, img2])[0][0])"
   ]
  },
  {
   "cell_type": "code",
   "execution_count": null,
   "metadata": {
    "colab": {
     "base_uri": "https://localhost:8080/",
     "height": 34
    },
    "id": "oHfM7N0OnWF1",
    "outputId": "bd9a71c2-d1eb-43ec-b081-de5a18f4591e"
   },
   "outputs": [],
   "source": [
    "tr_acc, threshold = compute_accuracy_thresh(np.array(pred), np.array(tr_y))\n",
    "tr_acc, threshold"
   ]
  },
  {
   "cell_type": "markdown",
   "metadata": {
    "id": "xSP7Z6hDnWF4"
   },
   "source": [
    "#### Review Results\n",
    "Thus if the differnce score is less than threhold, we predict the test image as Genuine and if the difference score is greater than threshold, we predict it to be as forged"
   ]
  },
  {
   "cell_type": "code",
   "execution_count": null,
   "metadata": {
    "id": "ut9LUxfZnWF5"
   },
   "outputs": [],
   "source": [
    "def predict_score():\n",
    "    '''Predict distance score and classify test images as Genuine or Forged'''\n",
    "    test_point, test_label = next(test_gen)\n",
    "    img1, img2 = test_point[0], test_point[1]\n",
    "    \n",
    "    fig, (ax1, ax2) = plt.subplots(1, 2, figsize = (10, 10))\n",
    "    ax1.imshow(np.squeeze(img1), cmap='gray')\n",
    "    ax2.imshow(np.squeeze(img2), cmap='gray')\n",
    "    ax1.set_title('Genuine')\n",
    "    if test_label == 1:\n",
    "        ax2.set_title('Genuine')\n",
    "    else:\n",
    "        ax2.set_title('Forged')\n",
    "    ax1.axis('off')\n",
    "    ax2.axis('off')\n",
    "    plt.show()\n",
    "    result = model.predict([img1, img2])\n",
    "    diff = result[0][0]\n",
    "    print(\"Difference Score = \", diff)\n",
    "    if diff > threshold:\n",
    "        print(\"Its a Forged Signature\")\n",
    "    else:\n",
    "        print(\"Its a Genuine Signature\")"
   ]
  },
  {
   "cell_type": "code",
   "execution_count": null,
   "metadata": {
    "colab": {
     "base_uri": "https://localhost:8080/",
     "height": 277
    },
    "id": "cHGCy1EEnWF8",
    "outputId": "bbae13fb-ae2c-49bb-96f1-51f2e651f407"
   },
   "outputs": [],
   "source": [
    "predict_score()"
   ]
  },
  {
   "cell_type": "markdown",
   "metadata": {
    "id": "2iSJxGC_nWGB"
   },
   "source": [
    "### Note: The first image is always Genuine. Score prediction and classification is done for the second image"
   ]
  },
  {
   "cell_type": "code",
   "execution_count": null,
   "metadata": {
    "colab": {
     "base_uri": "https://localhost:8080/",
     "height": 277
    },
    "id": "KZZeA1SnnWGF",
    "outputId": "ccae327c-e3e7-4ec8-c516-15316d404b8f"
   },
   "outputs": [],
   "source": [
    "predict_score()"
   ]
  },
  {
   "cell_type": "code",
   "execution_count": null,
   "metadata": {
    "colab": {
     "base_uri": "https://localhost:8080/",
     "height": 277
    },
    "id": "_VWmvVlGnWGI",
    "outputId": "dec46988-5a6f-499e-9c78-02faec2bbacd"
   },
   "outputs": [],
   "source": [
    "predict_score()"
   ]
  },
  {
   "cell_type": "code",
   "execution_count": null,
   "metadata": {
    "colab": {
     "base_uri": "https://localhost:8080/",
     "height": 277
    },
    "id": "C8ICcWijnWGM",
    "outputId": "ca63b78f-0586-4d8e-801d-2f90bfc26cd4"
   },
   "outputs": [],
   "source": [
    "predict_score()"
   ]
  }
 ],
 "metadata": {
  "accelerator": "GPU",
  "colab": {
   "collapsed_sections": [],
   "name": "Siamese Network _ SigNet BHSig260 Hindi Signatures.ipynb",
   "provenance": []
  },
  "kernelspec": {
   "display_name": "Python 3 (ipykernel)",
   "language": "python",
   "name": "python3"
  },
  "language_info": {
   "codemirror_mode": {
    "name": "ipython",
    "version": 3
   },
   "file_extension": ".py",
   "mimetype": "text/x-python",
   "name": "python",
   "nbconvert_exporter": "python",
   "pygments_lexer": "ipython3",
   "version": "3.9.7"
  }
 },
 "nbformat": 4,
 "nbformat_minor": 1
}
