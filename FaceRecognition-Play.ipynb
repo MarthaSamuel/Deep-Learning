{
 "cells": [
  {
   "cell_type": "markdown",
   "id": "ae57f42b",
   "metadata": {},
   "source": [
    "# Install requisite packages"
   ]
  },
  {
   "cell_type": "code",
   "execution_count": 1,
   "id": "f7fdc382",
   "metadata": {},
   "outputs": [
    {
     "name": "stdout",
     "output_type": "stream",
     "text": [
      "Requirement already satisfied: face_recognition in /opt/anaconda3/lib/python3.9/site-packages (1.3.0)\r\n",
      "Requirement already satisfied: Pillow in /opt/anaconda3/lib/python3.9/site-packages (from face_recognition) (8.4.0)\r\n",
      "Requirement already satisfied: face-recognition-models>=0.3.0 in /opt/anaconda3/lib/python3.9/site-packages (from face_recognition) (0.3.0)\r\n",
      "Requirement already satisfied: numpy in /opt/anaconda3/lib/python3.9/site-packages (from face_recognition) (1.19.5)\r\n",
      "Requirement already satisfied: Click>=6.0 in /opt/anaconda3/lib/python3.9/site-packages (from face_recognition) (8.0.3)\r\n",
      "Requirement already satisfied: dlib>=19.7 in /opt/anaconda3/lib/python3.9/site-packages (from face_recognition) (19.22.1)\r\n"
     ]
    }
   ],
   "source": [
    "!pip install face_recognition"
   ]
  },
  {
   "cell_type": "markdown",
   "id": "fec80200",
   "metadata": {},
   "source": [
    "# Import required packages"
   ]
  },
  {
   "cell_type": "code",
   "execution_count": 2,
   "id": "8c3bbaa4",
   "metadata": {},
   "outputs": [],
   "source": [
    "import cv2\n",
    "import face_recognition\n",
    "import os"
   ]
  },
  {
   "cell_type": "code",
   "execution_count": 3,
   "id": "44b6ff7c",
   "metadata": {},
   "outputs": [],
   "source": [
    "#Read default video and frames from there and use our data to match the face"
   ]
  },
  {
   "cell_type": "code",
   "execution_count": null,
   "id": "be6c166e",
   "metadata": {},
   "outputs": [
    {
     "name": "stdout",
     "output_type": "stream",
     "text": [
      "persons who are known:  ['Kamala', 'SRK', 'Shivendra', 'Modi']\n",
      "Match found: Shivendra\n",
      "Match found: Shivendra\n",
      "Match found: Shivendra\n",
      "Match found: Shivendra\n",
      "Match found: Shivendra\n",
      "Match found: Shivendra\n",
      "Match found: Shivendra\n"
     ]
    }
   ],
   "source": [
    "video_capture = cv2.VideoCapture(0)\n",
    "\n",
    "person  = []\n",
    "#we will keep all the known person images in data dir for comparios\n",
    "#only 1 image for each person is required\n",
    "#<name>.jpg format\n",
    "dir_list = os.listdir('data')\n",
    "for i in dir_list:\n",
    "    person.append(i.replace('.jpg',''))\n",
    "    \n",
    "print(\"persons who are known: \",person)\n",
    "\n",
    "known_face_encodings = []\n",
    "known_face_names = []\n",
    "\n",
    "for i in person:\n",
    "    known_face_names.append(i)\n",
    "    img = face_recognition.load_image_file(str('data/'+i+\".jpg\"))\n",
    "    encoding = face_recognition.face_encodings(img)[0]\n",
    "    known_face_encodings.append(encoding)\n",
    "    \n",
    "face_locations = []\n",
    "face_encodings = []\n",
    "face_names = []\n",
    "count = True\n",
    "\n",
    "#forever till video feed fails\n",
    "while True:\n",
    "    #read frames\n",
    "    ret , image = video_capture.read()\n",
    "    face_locations = face_recognition.face_locations(image , model='cnn')# locate the face\n",
    "    face_encodings = face_recognition.face_encodings(image, face_locations )\n",
    "    \n",
    "    face_names = []\n",
    "    for face_encoding in face_encodings:\n",
    "        matches = face_recognition.compare_faces(known_face_encodings, face_encoding,0.6)\n",
    "        name = \"Unknown\"\n",
    "        \n",
    "        if True in matches:\n",
    "            first_match_index = matches.index(True)\n",
    "            name = known_face_names[first_match_index]\n",
    "            print(\"Match found: \"+ name)\n",
    "        face_names.append(name)\n",
    "    \n",
    "    for ( top, right, bottom, left), name in zip(face_locations, face_names):\n",
    "        \n",
    "        #draw a rectange around face and put the name detected\n",
    "        cv2.rectangle(image, (left, top), (right, bottom), (255,0,0), 1)\n",
    "        font = cv2.FONT_HERSHEY_DUPLEX\n",
    "        cv2.putText(image, name , (left+6, top-6), font, 1.0,(255,0,255),1)\n",
    "        \n",
    "    cv2.imshow('Video', image)\n",
    "    \n",
    "    #we ned to have a way to quit\n",
    "    if cv2.waitKey(1) & 0xFF == ord('q'):\n",
    "        break\n",
    "        \n",
    "#Release handle to the webcam\n",
    "video_capture.release()\n",
    "cv2.destroyAllWindows()\n"
   ]
  },
  {
   "cell_type": "code",
   "execution_count": null,
   "id": "c9cbbb4c",
   "metadata": {},
   "outputs": [],
   "source": []
  }
 ],
 "metadata": {
  "kernelspec": {
   "display_name": "Python 3 (ipykernel)",
   "language": "python",
   "name": "python3"
  },
  "language_info": {
   "codemirror_mode": {
    "name": "ipython",
    "version": 3
   },
   "file_extension": ".py",
   "mimetype": "text/x-python",
   "name": "python",
   "nbconvert_exporter": "python",
   "pygments_lexer": "ipython3",
   "version": "3.9.7"
  }
 },
 "nbformat": 4,
 "nbformat_minor": 5
}
