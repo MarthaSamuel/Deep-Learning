{
 "cells": [
  {
   "cell_type": "code",
   "execution_count": null,
   "metadata": {},
   "outputs": [],
   "source": [
    "from keras.datasets import mnist\n",
    "import numpy as np\n",
    "import matplotlib.pyplot as plt\n",
    "\n",
    "#install matplotlib 2.2.3"
   ]
  },
  {
   "cell_type": "code",
   "execution_count": null,
   "metadata": {},
   "outputs": [],
   "source": [
    "def get_noisy_mnist(noise_factor=0.5, show_samples=False):\n",
    "    (x_train, x_labels), (x_test, x_labels) = mnist.load_data()\n",
    "    if show_samples:\n",
    "        print('A sample of original MNIST dataset:')\n",
    "        print(x_train[0][0], x_labels[0])\n",
    "        \n",
    "    x_train=x_train.astype('float32')/255\n",
    "    x_test=x_test.astype('float32')/255\n",
    "    \n",
    "    x_train = np.reshape(x_train, (len(x_train), 28, 28, 1))\n",
    "    x_test = np.reshape(x_test, (len(x_test), 28, 28, 1))\n",
    "    \n",
    "    x_train_noisy = x_train + noise_factor * np.random.normal(loc=0.0, scale   )\n",
    "    x_test_noisy = x_test + noise_factor * np.random.normal(loc=0.0, scale   )\n",
    "    \n",
    "    x_train_noisy = np.clip(x_train_noisy, 0., 1.)\n",
    "    x_test_noisy = np.clip(x_test_noisy, 0., 1.)\n",
    "    \n",
    "    if show_samples:\n",
    "        print('A sample with added noise:')\n",
    "        print(x_train_noisy[0][0], x_labels[0])\n",
    "    return x_train_noisy, x_train, x_test_noisy, x_test"
   ]
  },
  {
   "cell_type": "code",
   "execution_count": null,
   "metadata": {},
   "outputs": [],
   "source": [
    "def plot_mnist(x):\n",
    "    n=10\n",
    "    plt.figure(figsize=(20, 2))\n",
    "    for i in range(0,n):\n",
    "        ax=plt.subplot(1, n, i+1)\n",
    "        plt.imshow(x[1].reshape(28,28))\n",
    "        plt.gray()\n",
    "        ax.get_xaxis().set_visible(False)\n",
    "        ax.get_yaxis().set_visible(False)\n",
    "    plt.show()\n",
    "    \n",
    "if __name__ == '__main__':\n",
    "    xn, x, xntest, xt = get_noisy_mnist(show_samples=True)\n",
    "    plot_mnist(x)\n",
    "    plot_mnist(xn)"
   ]
  },
  {
   "cell_type": "code",
   "execution_count": null,
   "metadata": {},
   "outputs": [],
   "source": []
  }
 ],
 "metadata": {
  "kernelspec": {
   "display_name": "Python 3",
   "language": "python",
   "name": "python3"
  },
  "language_info": {
   "codemirror_mode": {
    "name": "ipython",
    "version": 3
   },
   "file_extension": ".py",
   "mimetype": "text/x-python",
   "name": "python",
   "nbconvert_exporter": "python",
   "pygments_lexer": "ipython3",
   "version": "3.7.6"
  }
 },
 "nbformat": 4,
 "nbformat_minor": 4
}
