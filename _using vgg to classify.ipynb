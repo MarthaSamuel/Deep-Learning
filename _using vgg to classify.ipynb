{
 "cells": [
  {
   "cell_type": "code",
   "execution_count": null,
   "metadata": {},
   "outputs": [],
   "source": [
    "# to run this script, install pil library with conda install pillow, turn off tensorflow debug info"
   ]
  },
  {
   "cell_type": "code",
   "execution_count": null,
   "metadata": {},
   "outputs": [],
   "source": [
    "import os\n",
    "import tensorflow as tf\n",
    "os.environ['TF_CPP_MIN_LOG_LEVEL'] = '3'\n",
    "\n",
    "from keras.preprocessing.image import load_img\n",
    "from keras.preprocessing.image import img_to_array\n",
    "from keras.applications.vgg19 import preprocess_input\n",
    "from keras.applications.vgg19 import decode_prediction\n",
    "from keras.applications.vgg19 import VGG19\n",
    "from sys import argv\n",
    "from pprint import pprint"
   ]
  },
  {
   "cell_type": "code",
   "execution_count": null,
   "metadata": {},
   "outputs": [],
   "source": [
    "model = VGG19()\n",
    "print(argv[1])"
   ]
  },
  {
   "cell_type": "code",
   "execution_count": null,
   "metadata": {},
   "outputs": [],
   "source": [
    "#load image from the first scripts arguments \n",
    "#resize to fit models required size \n",
    "\n",
    "image = load_img(argv[1], target_size=(224, 224))\n",
    "#convert image to numpy array \n",
    "image = img_to_array(image)\n",
    "#reshape image to fit the model requirement \n",
    "#first argument is tehe number of images we plan\n",
    "image = image.reshape((1, image.shape[0], image.shape[1], image.shape[2]))#1 is no of images we want to classify\n",
    "#now we prepare the image the same way vgg images were trained\n",
    "image = preprocess_input(image)\n",
    "\n",
    "#get the probabilities for each class\n",
    "predictions = model.predict(image)\n",
    "#convert to human readable language \n",
    "labels = decode.predictions(predictions)\n",
    "pprint(labels)\n",
    "\n"
   ]
  },
  {
   "cell_type": "code",
   "execution_count": null,
   "metadata": {},
   "outputs": [],
   "source": [
    "#get the best match classes\n",
    "label = labels[0][0]\n",
    "print('%s: %.2f%%' % (label[1], label[2]*100))"
   ]
  },
  {
   "cell_type": "code",
   "execution_count": null,
   "metadata": {},
   "outputs": [],
   "source": []
  }
 ],
 "metadata": {
  "kernelspec": {
   "display_name": "Python 3",
   "language": "python",
   "name": "python3"
  },
  "language_info": {
   "codemirror_mode": {
    "name": "ipython",
    "version": 3
   },
   "file_extension": ".py",
   "mimetype": "text/x-python",
   "name": "python",
   "nbconvert_exporter": "python",
   "pygments_lexer": "ipython3",
   "version": "3.7.6"
  }
 },
 "nbformat": 4,
 "nbformat_minor": 4
}
