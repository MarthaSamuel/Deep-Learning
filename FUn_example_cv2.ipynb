{
 "cells": [
  {
   "cell_type": "code",
   "execution_count": null,
   "id": "4fb7c50f",
   "metadata": {},
   "outputs": [],
   "source": [
    "#check version of CV2 you have"
   ]
  },
  {
   "cell_type": "code",
   "execution_count": 1,
   "id": "b6277725",
   "metadata": {},
   "outputs": [],
   "source": [
    "import cv2"
   ]
  },
  {
   "cell_type": "code",
   "execution_count": 2,
   "id": "d683986a",
   "metadata": {},
   "outputs": [
    {
     "data": {
      "text/plain": [
       "'4.5.4'"
      ]
     },
     "execution_count": 2,
     "metadata": {},
     "output_type": "execute_result"
    }
   ],
   "source": [
    "cv2.__version__"
   ]
  },
  {
   "cell_type": "code",
   "execution_count": 3,
   "id": "c6e2bba4",
   "metadata": {},
   "outputs": [],
   "source": [
    "#4.x version is fine"
   ]
  },
  {
   "cell_type": "code",
   "execution_count": 4,
   "id": "2506b275",
   "metadata": {},
   "outputs": [],
   "source": [
    "# Convert you laptop camera video to frames"
   ]
  },
  {
   "cell_type": "code",
   "execution_count": null,
   "id": "d36b7928",
   "metadata": {},
   "outputs": [],
   "source": []
  },
  {
   "cell_type": "code",
   "execution_count": 7,
   "id": "46f135cb",
   "metadata": {},
   "outputs": [],
   "source": [
    "import cv2\n",
    "\n",
    "#capture your own camera feed\n",
    "camerafeed = cv2.VideoCapture(0)\n",
    "\n",
    "breaker = True\n",
    "counter = 0\n",
    "\n",
    "while(breaker):\n",
    "    _, frame = camerafeed.read()\n",
    "    \n",
    "    #write frame into a file\n",
    "    cv2.imwrite('Imageset_{}.jpg'.format(counter), frame)\n",
    "    \n",
    "    #exit loop\n",
    "    if counter == 10:\n",
    "        breaker = False\n",
    "    else:\n",
    "        counter +=1\n",
    "camerafeed.release()\n",
    "cv2.destroyAllWindows()"
   ]
  },
  {
   "cell_type": "markdown",
   "id": "833fb088",
   "metadata": {},
   "source": [
    "# Detect face"
   ]
  },
  {
   "cell_type": "code",
   "execution_count": 8,
   "id": "a1f38864",
   "metadata": {},
   "outputs": [],
   "source": [
    "import cv2\n",
    "#create the classifier\n",
    "face_cascade = cv2.CascadeClassifier('haarcascade_frontalface_default.xml')\n",
    "\n",
    "def detect_face(img):\n",
    "    imgCopy = img.copy()\n",
    "    face_rect = face_cascade.detectMultiScale(imgCopy)\n",
    "    \n",
    "    for (x,y,w,h) in face_rect:\n",
    "        cv2.rectangle(imgCopy, (x,y), (x+w, y+h), (0,255,0), 5)\n",
    "    return imgCopy\n",
    "\n",
    "#enable camera feed\n",
    "camera = cv2.VideoCapture(0)\n",
    "\n",
    "while(True):\n",
    "    _, frame = camera.read()\n",
    "    frameWithFace = detect_face(frame)\n",
    "    \n",
    "    #display detected frame\n",
    "    cv2.imshow(\"My camera feed with Face Det\",frameWithFace )\n",
    "    \n",
    "    #quit condition\n",
    "    if cv2.waitKey(1) & 0xFF == ord('q'):#press q button exit\n",
    "        camera.release()\n",
    "        cv2.destroyAllWindows()\n",
    "        break\n",
    "\n",
    "camera.release()\n",
    "cv2.destroyAllWindows()"
   ]
  },
  {
   "cell_type": "code",
   "execution_count": null,
   "id": "f213b747",
   "metadata": {},
   "outputs": [],
   "source": []
  }
 ],
 "metadata": {
  "kernelspec": {
   "display_name": "Python 3 (ipykernel)",
   "language": "python",
   "name": "python3"
  },
  "language_info": {
   "codemirror_mode": {
    "name": "ipython",
    "version": 3
   },
   "file_extension": ".py",
   "mimetype": "text/x-python",
   "name": "python",
   "nbconvert_exporter": "python",
   "pygments_lexer": "ipython3",
   "version": "3.9.7"
  }
 },
 "nbformat": 4,
 "nbformat_minor": 5
}
